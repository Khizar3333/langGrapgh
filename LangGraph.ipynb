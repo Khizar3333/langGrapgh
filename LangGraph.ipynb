{
  "nbformat": 4,
  "nbformat_minor": 0,
  "metadata": {
    "colab": {
      "provenance": [],
      "gpuType": "T4",
      "toc_visible": true,
      "authorship_tag": "ABX9TyOMJP4T4rL/MEtje8dVIcJl",
      "include_colab_link": true
    },
    "kernelspec": {
      "name": "python3",
      "display_name": "Python 3"
    },
    "language_info": {
      "name": "python"
    }
  },
  "cells": [
    {
      "cell_type": "markdown",
      "metadata": {
        "id": "view-in-github",
        "colab_type": "text"
      },
      "source": [
        "<a href=\"https://colab.research.google.com/github/Khizar3333/langGrapgh/blob/master/LangGraph.ipynb\" target=\"_parent\"><img src=\"https://colab.research.google.com/assets/colab-badge.svg\" alt=\"Open In Colab\"/></a>"
      ]
    },
    {
      "cell_type": "code",
      "execution_count": null,
      "metadata": {
        "id": "Ss7IySrqXue8"
      },
      "outputs": [],
      "source": [
        "!pip install langgraph langsmith\n"
      ]
    },
    {
      "cell_type": "code",
      "source": [
        "!pip install langchain langchain_groq langchain_community"
      ],
      "metadata": {
        "colab": {
          "base_uri": "https://localhost:8080/"
        },
        "collapsed": true,
        "id": "5t_43l-9Y1n9",
        "outputId": "52e165ca-ba97-46c4-e592-e12b5185cae3"
      },
      "execution_count": null,
      "outputs": [
        {
          "output_type": "stream",
          "name": "stdout",
          "text": [
            "Collecting langchain\n",
            "  Downloading langchain-0.2.14-py3-none-any.whl.metadata (7.1 kB)\n",
            "Collecting langchain_groq\n",
            "  Downloading langchain_groq-0.1.9-py3-none-any.whl.metadata (2.9 kB)\n",
            "Collecting langchain_community\n",
            "  Downloading langchain_community-0.2.12-py3-none-any.whl.metadata (2.7 kB)\n",
            "Requirement already satisfied: PyYAML>=5.3 in /usr/local/lib/python3.10/dist-packages (from langchain) (6.0.2)\n",
            "Requirement already satisfied: SQLAlchemy<3,>=1.4 in /usr/local/lib/python3.10/dist-packages (from langchain) (2.0.32)\n",
            "Requirement already satisfied: aiohttp<4.0.0,>=3.8.3 in /usr/local/lib/python3.10/dist-packages (from langchain) (3.10.3)\n",
            "Requirement already satisfied: async-timeout<5.0.0,>=4.0.0 in /usr/local/lib/python3.10/dist-packages (from langchain) (4.0.3)\n",
            "Requirement already satisfied: langchain-core<0.3.0,>=0.2.32 in /usr/local/lib/python3.10/dist-packages (from langchain) (0.2.34)\n",
            "Collecting langchain-text-splitters<0.3.0,>=0.2.0 (from langchain)\n",
            "  Downloading langchain_text_splitters-0.2.2-py3-none-any.whl.metadata (2.1 kB)\n",
            "Requirement already satisfied: langsmith<0.2.0,>=0.1.17 in /usr/local/lib/python3.10/dist-packages (from langchain) (0.1.101)\n",
            "Requirement already satisfied: numpy<2,>=1 in /usr/local/lib/python3.10/dist-packages (from langchain) (1.26.4)\n",
            "Requirement already satisfied: pydantic<3,>=1 in /usr/local/lib/python3.10/dist-packages (from langchain) (2.8.2)\n",
            "Requirement already satisfied: requests<3,>=2 in /usr/local/lib/python3.10/dist-packages (from langchain) (2.32.3)\n",
            "Requirement already satisfied: tenacity!=8.4.0,<9.0.0,>=8.1.0 in /usr/local/lib/python3.10/dist-packages (from langchain) (8.5.0)\n",
            "Collecting groq<1,>=0.4.1 (from langchain_groq)\n",
            "  Downloading groq-0.9.0-py3-none-any.whl.metadata (13 kB)\n",
            "Collecting dataclasses-json<0.7,>=0.5.7 (from langchain_community)\n",
            "  Downloading dataclasses_json-0.6.7-py3-none-any.whl.metadata (25 kB)\n",
            "Requirement already satisfied: aiohappyeyeballs>=2.3.0 in /usr/local/lib/python3.10/dist-packages (from aiohttp<4.0.0,>=3.8.3->langchain) (2.3.5)\n",
            "Requirement already satisfied: aiosignal>=1.1.2 in /usr/local/lib/python3.10/dist-packages (from aiohttp<4.0.0,>=3.8.3->langchain) (1.3.1)\n",
            "Requirement already satisfied: attrs>=17.3.0 in /usr/local/lib/python3.10/dist-packages (from aiohttp<4.0.0,>=3.8.3->langchain) (24.2.0)\n",
            "Requirement already satisfied: frozenlist>=1.1.1 in /usr/local/lib/python3.10/dist-packages (from aiohttp<4.0.0,>=3.8.3->langchain) (1.4.1)\n",
            "Requirement already satisfied: multidict<7.0,>=4.5 in /usr/local/lib/python3.10/dist-packages (from aiohttp<4.0.0,>=3.8.3->langchain) (6.0.5)\n",
            "Requirement already satisfied: yarl<2.0,>=1.0 in /usr/local/lib/python3.10/dist-packages (from aiohttp<4.0.0,>=3.8.3->langchain) (1.9.4)\n",
            "Collecting marshmallow<4.0.0,>=3.18.0 (from dataclasses-json<0.7,>=0.5.7->langchain_community)\n",
            "  Downloading marshmallow-3.22.0-py3-none-any.whl.metadata (7.2 kB)\n",
            "Collecting typing-inspect<1,>=0.4.0 (from dataclasses-json<0.7,>=0.5.7->langchain_community)\n",
            "  Downloading typing_inspect-0.9.0-py3-none-any.whl.metadata (1.5 kB)\n",
            "Requirement already satisfied: anyio<5,>=3.5.0 in /usr/local/lib/python3.10/dist-packages (from groq<1,>=0.4.1->langchain_groq) (3.7.1)\n",
            "Requirement already satisfied: distro<2,>=1.7.0 in /usr/lib/python3/dist-packages (from groq<1,>=0.4.1->langchain_groq) (1.7.0)\n",
            "Requirement already satisfied: httpx<1,>=0.23.0 in /usr/local/lib/python3.10/dist-packages (from groq<1,>=0.4.1->langchain_groq) (0.27.0)\n",
            "Requirement already satisfied: sniffio in /usr/local/lib/python3.10/dist-packages (from groq<1,>=0.4.1->langchain_groq) (1.3.1)\n",
            "Requirement already satisfied: typing-extensions<5,>=4.7 in /usr/local/lib/python3.10/dist-packages (from groq<1,>=0.4.1->langchain_groq) (4.12.2)\n",
            "Requirement already satisfied: jsonpatch<2.0,>=1.33 in /usr/local/lib/python3.10/dist-packages (from langchain-core<0.3.0,>=0.2.32->langchain) (1.33)\n",
            "Requirement already satisfied: packaging<25,>=23.2 in /usr/local/lib/python3.10/dist-packages (from langchain-core<0.3.0,>=0.2.32->langchain) (24.1)\n",
            "Requirement already satisfied: orjson<4.0.0,>=3.9.14 in /usr/local/lib/python3.10/dist-packages (from langsmith<0.2.0,>=0.1.17->langchain) (3.10.7)\n",
            "Requirement already satisfied: annotated-types>=0.4.0 in /usr/local/lib/python3.10/dist-packages (from pydantic<3,>=1->langchain) (0.7.0)\n",
            "Requirement already satisfied: pydantic-core==2.20.1 in /usr/local/lib/python3.10/dist-packages (from pydantic<3,>=1->langchain) (2.20.1)\n",
            "Requirement already satisfied: charset-normalizer<4,>=2 in /usr/local/lib/python3.10/dist-packages (from requests<3,>=2->langchain) (3.3.2)\n",
            "Requirement already satisfied: idna<4,>=2.5 in /usr/local/lib/python3.10/dist-packages (from requests<3,>=2->langchain) (3.7)\n",
            "Requirement already satisfied: urllib3<3,>=1.21.1 in /usr/local/lib/python3.10/dist-packages (from requests<3,>=2->langchain) (2.0.7)\n",
            "Requirement already satisfied: certifi>=2017.4.17 in /usr/local/lib/python3.10/dist-packages (from requests<3,>=2->langchain) (2024.7.4)\n",
            "Requirement already satisfied: greenlet!=0.4.17 in /usr/local/lib/python3.10/dist-packages (from SQLAlchemy<3,>=1.4->langchain) (3.0.3)\n",
            "Requirement already satisfied: exceptiongroup in /usr/local/lib/python3.10/dist-packages (from anyio<5,>=3.5.0->groq<1,>=0.4.1->langchain_groq) (1.2.2)\n",
            "Requirement already satisfied: httpcore==1.* in /usr/local/lib/python3.10/dist-packages (from httpx<1,>=0.23.0->groq<1,>=0.4.1->langchain_groq) (1.0.5)\n",
            "Requirement already satisfied: h11<0.15,>=0.13 in /usr/local/lib/python3.10/dist-packages (from httpcore==1.*->httpx<1,>=0.23.0->groq<1,>=0.4.1->langchain_groq) (0.14.0)\n",
            "Requirement already satisfied: jsonpointer>=1.9 in /usr/local/lib/python3.10/dist-packages (from jsonpatch<2.0,>=1.33->langchain-core<0.3.0,>=0.2.32->langchain) (3.0.0)\n",
            "Collecting mypy-extensions>=0.3.0 (from typing-inspect<1,>=0.4.0->dataclasses-json<0.7,>=0.5.7->langchain_community)\n",
            "  Downloading mypy_extensions-1.0.0-py3-none-any.whl.metadata (1.1 kB)\n",
            "Downloading langchain-0.2.14-py3-none-any.whl (997 kB)\n",
            "\u001b[2K   \u001b[90m━━━━━━━━━━━━━━━━━━━━━━━━━━━━━━━━━━━━━━━━\u001b[0m \u001b[32m997.8/997.8 kB\u001b[0m \u001b[31m37.9 MB/s\u001b[0m eta \u001b[36m0:00:00\u001b[0m\n",
            "\u001b[?25hDownloading langchain_groq-0.1.9-py3-none-any.whl (14 kB)\n",
            "Downloading langchain_community-0.2.12-py3-none-any.whl (2.3 MB)\n",
            "\u001b[2K   \u001b[90m━━━━━━━━━━━━━━━━━━━━━━━━━━━━━━━━━━━━━━━━\u001b[0m \u001b[32m2.3/2.3 MB\u001b[0m \u001b[31m63.3 MB/s\u001b[0m eta \u001b[36m0:00:00\u001b[0m\n",
            "\u001b[?25hDownloading dataclasses_json-0.6.7-py3-none-any.whl (28 kB)\n",
            "Downloading groq-0.9.0-py3-none-any.whl (103 kB)\n",
            "\u001b[2K   \u001b[90m━━━━━━━━━━━━━━━━━━━━━━━━━━━━━━━━━━━━━━━━\u001b[0m \u001b[32m103.5/103.5 kB\u001b[0m \u001b[31m7.3 MB/s\u001b[0m eta \u001b[36m0:00:00\u001b[0m\n",
            "\u001b[?25hDownloading langchain_text_splitters-0.2.2-py3-none-any.whl (25 kB)\n",
            "Downloading marshmallow-3.22.0-py3-none-any.whl (49 kB)\n",
            "\u001b[2K   \u001b[90m━━━━━━━━━━━━━━━━━━━━━━━━━━━━━━━━━━━━━━━━\u001b[0m \u001b[32m49.3/49.3 kB\u001b[0m \u001b[31m3.3 MB/s\u001b[0m eta \u001b[36m0:00:00\u001b[0m\n",
            "\u001b[?25hDownloading typing_inspect-0.9.0-py3-none-any.whl (8.8 kB)\n",
            "Downloading mypy_extensions-1.0.0-py3-none-any.whl (4.7 kB)\n",
            "Installing collected packages: mypy-extensions, marshmallow, typing-inspect, groq, dataclasses-json, langchain-text-splitters, langchain_groq, langchain, langchain_community\n",
            "Successfully installed dataclasses-json-0.6.7 groq-0.9.0 langchain-0.2.14 langchain-text-splitters-0.2.2 langchain_community-0.2.12 langchain_groq-0.1.9 marshmallow-3.22.0 mypy-extensions-1.0.0 typing-inspect-0.9.0\n"
          ]
        }
      ]
    },
    {
      "cell_type": "code",
      "source": [
        "from google.colab import userdata\n",
        "groq_api_key=userdata.get('groq_api_key')\n",
        "langsmith_api_key=userdata.get('langsmith_api_key')\n"
      ],
      "metadata": {
        "collapsed": true,
        "id": "MVhQjHFGZedA"
      },
      "execution_count": null,
      "outputs": []
    },
    {
      "cell_type": "code",
      "source": [
        "import os\n",
        "os.environ['LANGCHAIN_API_KEY']=langsmith_api_key\n",
        "os.environ['LANGCHAIN_TRACING_V2']='true'\n",
        "os.environ['LANGCHAIN_PROJECT']='LangGraph'"
      ],
      "metadata": {
        "id": "w3BdiEhlanIr"
      },
      "execution_count": null,
      "outputs": []
    },
    {
      "cell_type": "code",
      "source": [
        "from langchain_groq import ChatGroq\n",
        "\n",
        "model = ChatGroq(groq_api_key=groq_api_key,model_name='llama3-8b-8192')"
      ],
      "metadata": {
        "id": "IsI0LHz4gurX"
      },
      "execution_count": null,
      "outputs": []
    },
    {
      "cell_type": "markdown",
      "source": [
        "## Start building chatbot using langgraph"
      ],
      "metadata": {
        "id": "_oLM2SaUiggl"
      }
    },
    {
      "cell_type": "code",
      "source": [
        "from typing import Annotated\n",
        "from typing_extensions import TypedDict\n",
        "from langgraph.graph import StateGraph,START,END\n",
        "from langgraph.graph.message import add_messages"
      ],
      "metadata": {
        "id": "Ss71W8FMiJLc"
      },
      "execution_count": null,
      "outputs": []
    },
    {
      "cell_type": "code",
      "source": [
        "class State(TypedDict):\n",
        "  messages:Annotated[list,add_messages]\n"
      ],
      "metadata": {
        "id": "Zny4-U8SkBJY"
      },
      "execution_count": null,
      "outputs": []
    },
    {
      "cell_type": "code",
      "source": [
        "graph_builder=StateGraph(State)"
      ],
      "metadata": {
        "id": "LsN2TZIWoE1M"
      },
      "execution_count": null,
      "outputs": []
    },
    {
      "cell_type": "code",
      "source": [
        "graph_builder"
      ],
      "metadata": {
        "colab": {
          "base_uri": "https://localhost:8080/"
        },
        "id": "TFaOOH3soZzl",
        "outputId": "29930dc3-d015-4e23-96f8-4eb812d5e02c"
      },
      "execution_count": null,
      "outputs": [
        {
          "output_type": "execute_result",
          "data": {
            "text/plain": [
              "<langgraph.graph.state.StateGraph at 0x79d8ef9c2440>"
            ]
          },
          "metadata": {},
          "execution_count": 14
        }
      ]
    },
    {
      "cell_type": "code",
      "source": [
        "def Chatbot(state:State):\n",
        "  return {'messages':model.invoke(state['messages'])}"
      ],
      "metadata": {
        "id": "psUlkmntoeXz"
      },
      "execution_count": null,
      "outputs": []
    },
    {
      "cell_type": "code",
      "source": [
        "graph_builder.add_node('Chatbot',Chatbot)"
      ],
      "metadata": {
        "id": "Vwl6acHTq12_"
      },
      "execution_count": null,
      "outputs": []
    },
    {
      "cell_type": "code",
      "source": [
        "graph_builder.add_edge(START,'Chatbot')\n",
        "graph_builder.add_edge('Chatbot',END)"
      ],
      "metadata": {
        "id": "pJ4iJwp-rWV3"
      },
      "execution_count": null,
      "outputs": []
    },
    {
      "cell_type": "code",
      "source": [
        "graph=graph_builder.compile()"
      ],
      "metadata": {
        "id": "HIkxFAEhrxha"
      },
      "execution_count": null,
      "outputs": []
    },
    {
      "cell_type": "code",
      "source": [
        "from IPython.display import Image, display\n",
        "\n",
        "try:\n",
        "    display(Image(graph.get_graph().draw_mermaid_png()))\n",
        "except Exception:\n",
        "    # This requires some extra dependencies and is optional\n",
        "    pass"
      ],
      "metadata": {
        "colab": {
          "base_uri": "https://localhost:8080/",
          "height": 236
        },
        "id": "l1m4oQntsK27",
        "outputId": "3ec69544-2f8c-4ea0-a8cd-421e95d1bdf0"
      },
      "execution_count": null,
      "outputs": [
        {
          "output_type": "display_data",
          "data": {
            "image/jpeg": "[encoded data removed]",
            "text/plain": [
              "<IPython.core.display.Image object>"
            ]
          },
          "metadata": {}
        }
      ]
    },
    {
      "cell_type": "code",
      "source": [
        "while True:\n",
        "  user_input=input('User :')\n",
        "  if user_input.lower() in ['quit','q']:\n",
        "    print('Bye')\n",
        "    break\n",
        "  for event in graph.stream({'messages':('user',user_input)}):\n",
        "    print(event.values)\n",
        "    for value in event.values():\n",
        "      print(value['messages'])\n",
        "      print('Assistant',value['messages'].content)\n"
      ],
      "metadata": {
        "colab": {
          "base_uri": "https://localhost:8080/"
        },
        "id": "z7Y0uuR2tIWn",
        "outputId": "14759666-5a4a-41a5-d608-6654cc4b1d77"
      },
      "execution_count": null,
      "outputs": [
        {
          "output_type": "stream",
          "name": "stdout",
          "text": [
            "User :hello\n",
            "<built-in method values of AddableUpdatesDict object at 0x7b0f80fdafc0>\n",
            "content=\"Hello! It's nice to meet you. Is there something I can help you with, or would you like to chat?\" response_metadata={'token_usage': {'completion_tokens': 26, 'prompt_tokens': 11, 'total_tokens': 37, 'completion_time': 0.021666667, 'prompt_time': 0.001006468, 'queue_time': 0.016056209, 'total_time': 0.022673135}, 'model_name': 'llama3-8b-8192', 'system_fingerprint': 'fp_af05557ca2', 'finish_reason': 'stop', 'logprobs': None} id='run-9a10d628-c4ed-4c79-958b-e88bed62fba8-0' usage_metadata={'input_tokens': 11, 'output_tokens': 26, 'total_tokens': 37}\n",
            "Assistant Hello! It's nice to meet you. Is there something I can help you with, or would you like to chat?\n",
            "<built-in method values of AddableUpdatesDict object at 0x7b0f810f2980>\n",
            "content=\"Hello! It's nice to meet you. Is there something I can help you with, or would you like to chat?\" response_metadata={'token_usage': {'completion_tokens': 26, 'prompt_tokens': 11, 'total_tokens': 37, 'completion_time': 0.021666667, 'prompt_time': 0.001667821, 'queue_time': 0.017165279, 'total_time': 0.023334488}, 'model_name': 'llama3-8b-8192', 'system_fingerprint': 'fp_af05557ca2', 'finish_reason': 'stop', 'logprobs': None} id='run-35d245dc-032c-4263-ba02-e7f1bf89471a-0' usage_metadata={'input_tokens': 11, 'output_tokens': 26, 'total_tokens': 37}\n",
            "Assistant Hello! It's nice to meet you. Is there something I can help you with, or would you like to chat?\n",
            "User :what is generative ai\n",
            "<built-in method values of AddableUpdatesDict object at 0x7b0f80f73bf0>\n",
            "content='Generative AI refers to a type of artificial intelligence (AI) that creates new, original content, such as text, images, music, or videos, rather than simply processing or analyzing existing content. Generative AI models are trained on large datasets and use algorithms to generate new content that is similar in style, tone, and structure to the training data.\\n\\nGenerative AI has many applications across various industries, including:\\n\\n1. **Art and Design**: Generative AI can create original artwork, music, and designs, such as generating new music tracks, creating art pieces, or designing logos and icons.\\n2. **Content Generation**: Generative AI can generate text, articles, blog posts, and social media content, helping to alleviate the workload of content creators.\\n3. **Chatbots and Conversational AI**: Generative AI can create conversational responses, allowing chatbots to engage in more natural and human-like conversations.\\n4. **Marketing and Advertising**: Generative AI can create personalized ads, product descriptions, and marketing materials, helping to optimize marketing campaigns.\\n5. **Music and Audio**: Generative AI can generate music, sound effects, and audio tracks, making it a valuable tool for music production and audio post-production.\\n6. **Healthcare**: Generative AI can create personalized treatment plans, medical diagnoses, and patient-specific recommendations, helping to improve healthcare outcomes.\\n7. **Finance**: Generative AI can generate financial reports, forecasts, and predictions, helping to inform investment decisions and optimize financial portfolios.\\n\\nSome popular examples of generative AI include:\\n\\n1. **Neural Style Transfer**: A technique that generates new images by combining the style of one image with the content of another.\\n2. **Generative Adversarial Networks (GANs)**: A type of AI model that generates new data by learning the patterns and relationships within a dataset.\\n3. **Transformers**: A type of AI model that generates text, such as chatbots and language translation systems.\\n4. **AlphaFold**: A generative AI model that predicts the 3D structure of proteins from their amino acid sequence.\\n\\nThe benefits of generative AI include:\\n\\n1. **Increased Efficiency**: Generative AI can automate many tasks, freeing up human resources for more complex and creative work.\\n2. **Improved Accuracy**: Generative AI can generate high-quality content, making it a valuable tool for industries where accuracy and precision are critical.\\n3. **New Creative Possibilities**: Generative AI can create entirely new and innovative content, pushing the boundaries of what is possible in art, music, and design.\\n\\nHowever, generative AI also raises concerns about:\\n\\n1. **Ethics and Bias**: Generative AI models can perpetuate biases present in the training data, which can have negative consequences.\\n2. **Copyright and Ownership**: Generative AI-generated content raises questions about copyright and ownership, as it is often unclear who should be credited as the creator.\\n3. **Job Displacement**: Generative AI has the potential to automate many jobs, including those in the creative industries, which can lead to job displacement and economic disruption.\\n\\nOverall, generative AI has the potential to revolutionize many industries and create new opportunities for innovation and creativity. However, it is essential to consider the ethical and social implications of this technology to ensure its development and deployment are responsible and beneficial for society as a whole.' response_metadata={'token_usage': {'completion_tokens': 677, 'prompt_tokens': 15, 'total_tokens': 692, 'completion_time': 0.564166667, 'prompt_time': 0.001565791, 'queue_time': 0.01212341, 'total_time': 0.565732458}, 'model_name': 'llama3-8b-8192', 'system_fingerprint': 'fp_179b0f92c9', 'finish_reason': 'stop', 'logprobs': None} id='run-7cc0e2a5-04d3-4a36-9e3e-450769354d6b-0' usage_metadata={'input_tokens': 15, 'output_tokens': 677, 'total_tokens': 692}\n",
            "Assistant Generative AI refers to a type of artificial intelligence (AI) that creates new, original content, such as text, images, music, or videos, rather than simply processing or analyzing existing content. Generative AI models are trained on large datasets and use algorithms to generate new content that is similar in style, tone, and structure to the training data.\n",
            "\n",
            "Generative AI has many applications across various industries, including:\n",
            "\n",
            "1. **Art and Design**: Generative AI can create original artwork, music, and designs, such as generating new music tracks, creating art pieces, or designing logos and icons.\n",
            "2. **Content Generation**: Generative AI can generate text, articles, blog posts, and social media content, helping to alleviate the workload of content creators.\n",
            "3. **Chatbots and Conversational AI**: Generative AI can create conversational responses, allowing chatbots to engage in more natural and human-like conversations.\n",
            "4. **Marketing and Advertising**: Generative AI can create personalized ads, product descriptions, and marketing materials, helping to optimize marketing campaigns.\n",
            "5. **Music and Audio**: Generative AI can generate music, sound effects, and audio tracks, making it a valuable tool for music production and audio post-production.\n",
            "6. **Healthcare**: Generative AI can create personalized treatment plans, medical diagnoses, and patient-specific recommendations, helping to improve healthcare outcomes.\n",
            "7. **Finance**: Generative AI can generate financial reports, forecasts, and predictions, helping to inform investment decisions and optimize financial portfolios.\n",
            "\n",
            "Some popular examples of generative AI include:\n",
            "\n",
            "1. **Neural Style Transfer**: A technique that generates new images by combining the style of one image with the content of another.\n",
            "2. **Generative Adversarial Networks (GANs)**: A type of AI model that generates new data by learning the patterns and relationships within a dataset.\n",
            "3. **Transformers**: A type of AI model that generates text, such as chatbots and language translation systems.\n",
            "4. **AlphaFold**: A generative AI model that predicts the 3D structure of proteins from their amino acid sequence.\n",
            "\n",
            "The benefits of generative AI include:\n",
            "\n",
            "1. **Increased Efficiency**: Generative AI can automate many tasks, freeing up human resources for more complex and creative work.\n",
            "2. **Improved Accuracy**: Generative AI can generate high-quality content, making it a valuable tool for industries where accuracy and precision are critical.\n",
            "3. **New Creative Possibilities**: Generative AI can create entirely new and innovative content, pushing the boundaries of what is possible in art, music, and design.\n",
            "\n",
            "However, generative AI also raises concerns about:\n",
            "\n",
            "1. **Ethics and Bias**: Generative AI models can perpetuate biases present in the training data, which can have negative consequences.\n",
            "2. **Copyright and Ownership**: Generative AI-generated content raises questions about copyright and ownership, as it is often unclear who should be credited as the creator.\n",
            "3. **Job Displacement**: Generative AI has the potential to automate many jobs, including those in the creative industries, which can lead to job displacement and economic disruption.\n",
            "\n",
            "Overall, generative AI has the potential to revolutionize many industries and create new opportunities for innovation and creativity. However, it is essential to consider the ethical and social implications of this technology to ensure its development and deployment are responsible and beneficial for society as a whole.\n",
            "<built-in method values of AddableUpdatesDict object at 0x7b0f8114d940>\n",
            "content='Generative AI refers to a type of artificial intelligence (AI) that is capable of generating new, original content, such as images, music, text, or videos, based on patterns and structures it has learned from a dataset or a set of examples.\\n\\nGenerative AI models are trained on large amounts of data and use various algorithms and techniques, such as deep learning, neural networks, and probabilistic models, to learn the underlying patterns and relationships within the data. Once trained, these models can generate new content that is similar in style, tone, and quality to the original data.\\n\\nSome examples of generative AI include:\\n\\n1. **Generative Adversarial Networks (GANs)**: GANs consist of two neural networks that work together to generate new data that is similar to the training data. One network generates new data, while the other network evaluates the generated data and provides feedback to the first network to improve the quality.\\n2. **Variational Autoencoders (VAEs)**: VAEs are neural networks that learn to compress and reconstruct data. They can be used to generate new data by sampling from the compressed representation and then reconstructing it into a new data point.\\n3. **Text-to-Text Transformers**: These models can generate new text based on a given prompt or input. They are often used for tasks such as language translation, text summarization, and chatbots.\\n4. **Image-to-Image Transformers**: These models can generate new images based on a given input image. They are often used for tasks such as image generation, image-to-image translation, and image editing.\\n\\nGenerative AI has many applications across various industries, including:\\n\\n1. **Art and Design**: Generative AI can be used to create new artistic styles, generate music, or create new designs.\\n2. **Advertising and Marketing**: Generative AI can be used to generate targeted ads, personalized product recommendations, and customer service responses.\\n3. **Healthcare**: Generative AI can be used to generate medical images, diagnose diseases, and develop personalized treatment plans.\\n4. **Finance**: Generative AI can be used to generate financial reports, predict stock prices, and detect fraudulent transactions.\\n5. **Education**: Generative AI can be used to create personalized educational content, generate quiz questions, and provide real-time feedback.\\n\\nHowever, generative AI also raises important ethical and societal concerns, such as:\\n\\n1. **Bias and Unfairness**: Generative AI models can perpetuate biases and unfairness if they are trained on biased data.\\n2. **Intellectual Property**: Generative AI models can create new content that may be protected by intellectual property laws.\\n3. **Job Displacement**: Generative AI models can automate certain jobs and displace human workers.\\n\\nOverall, generative AI has the potential to transform many industries and create new opportunities, but it also requires careful consideration of its ethical and societal implications.' response_metadata={'token_usage': {'completion_tokens': 588, 'prompt_tokens': 15, 'total_tokens': 603, 'completion_time': 0.49, 'prompt_time': 0.001570362, 'queue_time': 0.016533489000000002, 'total_time': 0.491570362}, 'model_name': 'llama3-8b-8192', 'system_fingerprint': 'fp_af05557ca2', 'finish_reason': 'stop', 'logprobs': None} id='run-4e62e7ba-e1de-4734-824e-048224777d7e-0' usage_metadata={'input_tokens': 15, 'output_tokens': 588, 'total_tokens': 603}\n",
            "Assistant Generative AI refers to a type of artificial intelligence (AI) that is capable of generating new, original content, such as images, music, text, or videos, based on patterns and structures it has learned from a dataset or a set of examples.\n",
            "\n",
            "Generative AI models are trained on large amounts of data and use various algorithms and techniques, such as deep learning, neural networks, and probabilistic models, to learn the underlying patterns and relationships within the data. Once trained, these models can generate new content that is similar in style, tone, and quality to the original data.\n",
            "\n",
            "Some examples of generative AI include:\n",
            "\n",
            "1. **Generative Adversarial Networks (GANs)**: GANs consist of two neural networks that work together to generate new data that is similar to the training data. One network generates new data, while the other network evaluates the generated data and provides feedback to the first network to improve the quality.\n",
            "2. **Variational Autoencoders (VAEs)**: VAEs are neural networks that learn to compress and reconstruct data. They can be used to generate new data by sampling from the compressed representation and then reconstructing it into a new data point.\n",
            "3. **Text-to-Text Transformers**: These models can generate new text based on a given prompt or input. They are often used for tasks such as language translation, text summarization, and chatbots.\n",
            "4. **Image-to-Image Transformers**: These models can generate new images based on a given input image. They are often used for tasks such as image generation, image-to-image translation, and image editing.\n",
            "\n",
            "Generative AI has many applications across various industries, including:\n",
            "\n",
            "1. **Art and Design**: Generative AI can be used to create new artistic styles, generate music, or create new designs.\n",
            "2. **Advertising and Marketing**: Generative AI can be used to generate targeted ads, personalized product recommendations, and customer service responses.\n",
            "3. **Healthcare**: Generative AI can be used to generate medical images, diagnose diseases, and develop personalized treatment plans.\n",
            "4. **Finance**: Generative AI can be used to generate financial reports, predict stock prices, and detect fraudulent transactions.\n",
            "5. **Education**: Generative AI can be used to create personalized educational content, generate quiz questions, and provide real-time feedback.\n",
            "\n",
            "However, generative AI also raises important ethical and societal concerns, such as:\n",
            "\n",
            "1. **Bias and Unfairness**: Generative AI models can perpetuate biases and unfairness if they are trained on biased data.\n",
            "2. **Intellectual Property**: Generative AI models can create new content that may be protected by intellectual property laws.\n",
            "3. **Job Displacement**: Generative AI models can automate certain jobs and displace human workers.\n",
            "\n",
            "Overall, generative AI has the potential to transform many industries and create new opportunities, but it also requires careful consideration of its ethical and societal implications.\n",
            "User :q\n",
            "Bye\n"
          ]
        }
      ]
    },
    {
      "cell_type": "code",
      "source": [],
      "metadata": {
        "id": "H3YkLjJdvI9T"
      },
      "execution_count": null,
      "outputs": []
    }
  ]
}